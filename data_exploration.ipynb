{
 "cells": [
  {
   "cell_type": "code",
   "execution_count": 2,
   "metadata": {},
   "outputs": [
    {
     "name": "stderr",
     "output_type": "stream",
     "text": [
      "/home/localadmin1/miniconda3/envs/eoenv/lib/python3.6/site-packages/sklearn/ensemble/weight_boosting.py:29: DeprecationWarning: numpy.core.umath_tests is an internal NumPy module and should not be imported. It will be removed in a future NumPy release.\n",
      "  from numpy.core.umath_tests import inner1d\n"
     ]
    }
   ],
   "source": [
    "import pandas as pd\n",
    "import numpy as np\n",
    "import matplotlib.pyplot as plt\n",
    "from pyeo import classification as cls\n",
    "\n",
    "from tpot import TPOTClassifier\n",
    "\n",
    "from sklearn.svm import SVC\n",
    "\n",
    "from sklearn.model_selection import train_test_split"
   ]
  },
  {
   "cell_type": "code",
   "execution_count": 16,
   "metadata": {},
   "outputs": [],
   "source": [
    "band_labels = [\"ndvi\",\"ci\",\"psri\",\"gndvi\",\"s2_rep\",\"ireci\",\"s2_b\", \"s2_g\", \"s2_r\", \"s2_nir\", \"hv\", \"vv\"]\n",
    "\n",
    "training_data = pd.read_csv(\"data/training_sigs_12_bands.csv\", names=\n",
    "                           [\"class\"]+band_labels).astype(np.uint16)"
   ]
  },
  {
   "cell_type": "code",
   "execution_count": 17,
   "metadata": {},
   "outputs": [
    {
     "data": {
      "text/html": [
       "<div>\n",
       "<style scoped>\n",
       "    .dataframe tbody tr th:only-of-type {\n",
       "        vertical-align: middle;\n",
       "    }\n",
       "\n",
       "    .dataframe tbody tr th {\n",
       "        vertical-align: top;\n",
       "    }\n",
       "\n",
       "    .dataframe thead th {\n",
       "        text-align: right;\n",
       "    }\n",
       "</style>\n",
       "<table border=\"1\" class=\"dataframe\">\n",
       "  <thead>\n",
       "    <tr style=\"text-align: right;\">\n",
       "      <th></th>\n",
       "      <th>class</th>\n",
       "      <th>ndvi</th>\n",
       "      <th>ci</th>\n",
       "      <th>psri</th>\n",
       "      <th>gndvi</th>\n",
       "      <th>s2_rep</th>\n",
       "      <th>ireci</th>\n",
       "      <th>s2_b</th>\n",
       "      <th>s2_g</th>\n",
       "      <th>s2_r</th>\n",
       "      <th>s2_nir</th>\n",
       "      <th>hv</th>\n",
       "      <th>vv</th>\n",
       "    </tr>\n",
       "  </thead>\n",
       "  <tbody>\n",
       "    <tr>\n",
       "      <td>0</td>\n",
       "      <td>3</td>\n",
       "      <td>5506</td>\n",
       "      <td>8515</td>\n",
       "      <td>919</td>\n",
       "      <td>5570</td>\n",
       "      <td>715</td>\n",
       "      <td>2301</td>\n",
       "      <td>438</td>\n",
       "      <td>592</td>\n",
       "      <td>603</td>\n",
       "      <td>2081</td>\n",
       "      <td>6223</td>\n",
       "      <td>23284</td>\n",
       "    </tr>\n",
       "    <tr>\n",
       "      <td>1</td>\n",
       "      <td>3</td>\n",
       "      <td>4915</td>\n",
       "      <td>7483</td>\n",
       "      <td>1328</td>\n",
       "      <td>5023</td>\n",
       "      <td>722</td>\n",
       "      <td>2266</td>\n",
       "      <td>535</td>\n",
       "      <td>757</td>\n",
       "      <td>779</td>\n",
       "      <td>2285</td>\n",
       "      <td>4225</td>\n",
       "      <td>20804</td>\n",
       "    </tr>\n",
       "    <tr>\n",
       "      <td>2</td>\n",
       "      <td>3</td>\n",
       "      <td>3987</td>\n",
       "      <td>6554</td>\n",
       "      <td>2173</td>\n",
       "      <td>4750</td>\n",
       "      <td>726</td>\n",
       "      <td>1948</td>\n",
       "      <td>590</td>\n",
       "      <td>832</td>\n",
       "      <td>1005</td>\n",
       "      <td>2338</td>\n",
       "      <td>3983</td>\n",
       "      <td>14438</td>\n",
       "    </tr>\n",
       "    <tr>\n",
       "      <td>3</td>\n",
       "      <td>3</td>\n",
       "      <td>6586</td>\n",
       "      <td>13830</td>\n",
       "      <td>460</td>\n",
       "      <td>5982</td>\n",
       "      <td>722</td>\n",
       "      <td>4148</td>\n",
       "      <td>461</td>\n",
       "      <td>684</td>\n",
       "      <td>560</td>\n",
       "      <td>2721</td>\n",
       "      <td>3785</td>\n",
       "      <td>28567</td>\n",
       "    </tr>\n",
       "    <tr>\n",
       "      <td>4</td>\n",
       "      <td>3</td>\n",
       "      <td>6149</td>\n",
       "      <td>13607</td>\n",
       "      <td>690</td>\n",
       "      <td>5820</td>\n",
       "      <td>721</td>\n",
       "      <td>3783</td>\n",
       "      <td>463</td>\n",
       "      <td>677</td>\n",
       "      <td>611</td>\n",
       "      <td>2563</td>\n",
       "      <td>3162</td>\n",
       "      <td>25760</td>\n",
       "    </tr>\n",
       "    <tr>\n",
       "      <td>...</td>\n",
       "      <td>...</td>\n",
       "      <td>...</td>\n",
       "      <td>...</td>\n",
       "      <td>...</td>\n",
       "      <td>...</td>\n",
       "      <td>...</td>\n",
       "      <td>...</td>\n",
       "      <td>...</td>\n",
       "      <td>...</td>\n",
       "      <td>...</td>\n",
       "      <td>...</td>\n",
       "      <td>...</td>\n",
       "      <td>...</td>\n",
       "    </tr>\n",
       "    <tr>\n",
       "      <td>238030</td>\n",
       "      <td>1</td>\n",
       "      <td>6851</td>\n",
       "      <td>16527</td>\n",
       "      <td>320</td>\n",
       "      <td>6417</td>\n",
       "      <td>718</td>\n",
       "      <td>2759</td>\n",
       "      <td>258</td>\n",
       "      <td>354</td>\n",
       "      <td>303</td>\n",
       "      <td>1622</td>\n",
       "      <td>6451</td>\n",
       "      <td>32767</td>\n",
       "    </tr>\n",
       "    <tr>\n",
       "      <td>238031</td>\n",
       "      <td>1</td>\n",
       "      <td>6987</td>\n",
       "      <td>15728</td>\n",
       "      <td>570</td>\n",
       "      <td>6512</td>\n",
       "      <td>725</td>\n",
       "      <td>3308</td>\n",
       "      <td>262</td>\n",
       "      <td>412</td>\n",
       "      <td>346</td>\n",
       "      <td>1951</td>\n",
       "      <td>4950</td>\n",
       "      <td>27877</td>\n",
       "    </tr>\n",
       "    <tr>\n",
       "      <td>238032</td>\n",
       "      <td>1</td>\n",
       "      <td>6677</td>\n",
       "      <td>14893</td>\n",
       "      <td>376</td>\n",
       "      <td>6123</td>\n",
       "      <td>726</td>\n",
       "      <td>3387</td>\n",
       "      <td>353</td>\n",
       "      <td>496</td>\n",
       "      <td>411</td>\n",
       "      <td>2063</td>\n",
       "      <td>4279</td>\n",
       "      <td>22309</td>\n",
       "    </tr>\n",
       "    <tr>\n",
       "      <td>238033</td>\n",
       "      <td>1</td>\n",
       "      <td>6304</td>\n",
       "      <td>13895</td>\n",
       "      <td>662</td>\n",
       "      <td>5972</td>\n",
       "      <td>726</td>\n",
       "      <td>3354</td>\n",
       "      <td>373</td>\n",
       "      <td>534</td>\n",
       "      <td>480</td>\n",
       "      <td>2118</td>\n",
       "      <td>5345</td>\n",
       "      <td>22062</td>\n",
       "    </tr>\n",
       "    <tr>\n",
       "      <td>238034</td>\n",
       "      <td>1</td>\n",
       "      <td>6438</td>\n",
       "      <td>14362</td>\n",
       "      <td>724</td>\n",
       "      <td>6051</td>\n",
       "      <td>728</td>\n",
       "      <td>3723</td>\n",
       "      <td>368</td>\n",
       "      <td>553</td>\n",
       "      <td>487</td>\n",
       "      <td>2248</td>\n",
       "      <td>5278</td>\n",
       "      <td>22190</td>\n",
       "    </tr>\n",
       "  </tbody>\n",
       "</table>\n",
       "<p>238035 rows × 13 columns</p>\n",
       "</div>"
      ],
      "text/plain": [
       "        class  ndvi     ci  psri  gndvi  s2_rep  ireci  s2_b  s2_g  s2_r  \\\n",
       "0           3  5506   8515   919   5570     715   2301   438   592   603   \n",
       "1           3  4915   7483  1328   5023     722   2266   535   757   779   \n",
       "2           3  3987   6554  2173   4750     726   1948   590   832  1005   \n",
       "3           3  6586  13830   460   5982     722   4148   461   684   560   \n",
       "4           3  6149  13607   690   5820     721   3783   463   677   611   \n",
       "...       ...   ...    ...   ...    ...     ...    ...   ...   ...   ...   \n",
       "238030      1  6851  16527   320   6417     718   2759   258   354   303   \n",
       "238031      1  6987  15728   570   6512     725   3308   262   412   346   \n",
       "238032      1  6677  14893   376   6123     726   3387   353   496   411   \n",
       "238033      1  6304  13895   662   5972     726   3354   373   534   480   \n",
       "238034      1  6438  14362   724   6051     728   3723   368   553   487   \n",
       "\n",
       "        s2_nir    hv     vv  \n",
       "0         2081  6223  23284  \n",
       "1         2285  4225  20804  \n",
       "2         2338  3983  14438  \n",
       "3         2721  3785  28567  \n",
       "4         2563  3162  25760  \n",
       "...        ...   ...    ...  \n",
       "238030    1622  6451  32767  \n",
       "238031    1951  4950  27877  \n",
       "238032    2063  4279  22309  \n",
       "238033    2118  5345  22062  \n",
       "238034    2248  5278  22190  \n",
       "\n",
       "[238035 rows x 13 columns]"
      ]
     },
     "execution_count": 17,
     "metadata": {},
     "output_type": "execute_result"
    }
   ],
   "source": [
    "training_data"
   ]
  },
  {
   "cell_type": "code",
   "execution_count": 79,
   "metadata": {
    "scrolled": false
   },
   "outputs": [],
   "source": [
    "def sample_class(class_df):\n",
    "    return class_df.sample(100)\n",
    "    \n",
    "sample_data = training_data.groupby('class').apply(sample_class).reset_index(1)"
   ]
  },
  {
   "cell_type": "code",
   "execution_count": 80,
   "metadata": {},
   "outputs": [
    {
     "data": {
      "text/html": [
       "<div>\n",
       "<style scoped>\n",
       "    .dataframe tbody tr th:only-of-type {\n",
       "        vertical-align: middle;\n",
       "    }\n",
       "\n",
       "    .dataframe tbody tr th {\n",
       "        vertical-align: top;\n",
       "    }\n",
       "\n",
       "    .dataframe thead th {\n",
       "        text-align: right;\n",
       "    }\n",
       "</style>\n",
       "<table border=\"1\" class=\"dataframe\">\n",
       "  <thead>\n",
       "    <tr style=\"text-align: right;\">\n",
       "      <th></th>\n",
       "      <th></th>\n",
       "      <th>class</th>\n",
       "      <th>ndvi</th>\n",
       "      <th>ci</th>\n",
       "      <th>psri</th>\n",
       "      <th>gndvi</th>\n",
       "      <th>s2_rep</th>\n",
       "      <th>ireci</th>\n",
       "      <th>s2_b</th>\n",
       "      <th>s2_g</th>\n",
       "      <th>s2_r</th>\n",
       "      <th>s2_nir</th>\n",
       "      <th>hv</th>\n",
       "      <th>vv</th>\n",
       "    </tr>\n",
       "    <tr>\n",
       "      <th>class</th>\n",
       "      <th></th>\n",
       "      <th></th>\n",
       "      <th></th>\n",
       "      <th></th>\n",
       "      <th></th>\n",
       "      <th></th>\n",
       "      <th></th>\n",
       "      <th></th>\n",
       "      <th></th>\n",
       "      <th></th>\n",
       "      <th></th>\n",
       "      <th></th>\n",
       "      <th></th>\n",
       "      <th></th>\n",
       "    </tr>\n",
       "  </thead>\n",
       "  <tbody>\n",
       "    <tr>\n",
       "      <td rowspan=\"5\" valign=\"top\">1</td>\n",
       "      <td>135942</td>\n",
       "      <td>1</td>\n",
       "      <td>7198</td>\n",
       "      <td>20218</td>\n",
       "      <td>11</td>\n",
       "      <td>6327</td>\n",
       "      <td>722</td>\n",
       "      <td>4252</td>\n",
       "      <td>334</td>\n",
       "      <td>464</td>\n",
       "      <td>336</td>\n",
       "      <td>2063</td>\n",
       "      <td>3678</td>\n",
       "      <td>24352</td>\n",
       "    </tr>\n",
       "    <tr>\n",
       "      <td>81120</td>\n",
       "      <td>1</td>\n",
       "      <td>7222</td>\n",
       "      <td>24635</td>\n",
       "      <td>116</td>\n",
       "      <td>6564</td>\n",
       "      <td>722</td>\n",
       "      <td>5039</td>\n",
       "      <td>331</td>\n",
       "      <td>454</td>\n",
       "      <td>353</td>\n",
       "      <td>2189</td>\n",
       "      <td>18058</td>\n",
       "      <td>32767</td>\n",
       "    </tr>\n",
       "    <tr>\n",
       "      <td>102911</td>\n",
       "      <td>1</td>\n",
       "      <td>7415</td>\n",
       "      <td>24894</td>\n",
       "      <td>245</td>\n",
       "      <td>6617</td>\n",
       "      <td>725</td>\n",
       "      <td>5534</td>\n",
       "      <td>305</td>\n",
       "      <td>480</td>\n",
       "      <td>350</td>\n",
       "      <td>2358</td>\n",
       "      <td>8130</td>\n",
       "      <td>32767</td>\n",
       "    </tr>\n",
       "    <tr>\n",
       "      <td>211536</td>\n",
       "      <td>1</td>\n",
       "      <td>7303</td>\n",
       "      <td>23395</td>\n",
       "      <td>138</td>\n",
       "      <td>6574</td>\n",
       "      <td>722</td>\n",
       "      <td>4791</td>\n",
       "      <td>315</td>\n",
       "      <td>451</td>\n",
       "      <td>340</td>\n",
       "      <td>2182</td>\n",
       "      <td>4758</td>\n",
       "      <td>26984</td>\n",
       "    </tr>\n",
       "    <tr>\n",
       "      <td>225803</td>\n",
       "      <td>1</td>\n",
       "      <td>6710</td>\n",
       "      <td>16224</td>\n",
       "      <td>596</td>\n",
       "      <td>6355</td>\n",
       "      <td>726</td>\n",
       "      <td>2896</td>\n",
       "      <td>269</td>\n",
       "      <td>394</td>\n",
       "      <td>348</td>\n",
       "      <td>1768</td>\n",
       "      <td>8536</td>\n",
       "      <td>32767</td>\n",
       "    </tr>\n",
       "    <tr>\n",
       "      <td>...</td>\n",
       "      <td>...</td>\n",
       "      <td>...</td>\n",
       "      <td>...</td>\n",
       "      <td>...</td>\n",
       "      <td>...</td>\n",
       "      <td>...</td>\n",
       "      <td>...</td>\n",
       "      <td>...</td>\n",
       "      <td>...</td>\n",
       "      <td>...</td>\n",
       "      <td>...</td>\n",
       "      <td>...</td>\n",
       "      <td>...</td>\n",
       "      <td>...</td>\n",
       "    </tr>\n",
       "    <tr>\n",
       "      <td rowspan=\"5\" valign=\"top\">7</td>\n",
       "      <td>16116</td>\n",
       "      <td>7</td>\n",
       "      <td>1274</td>\n",
       "      <td>1570</td>\n",
       "      <td>4095</td>\n",
       "      <td>2969</td>\n",
       "      <td>701</td>\n",
       "      <td>507</td>\n",
       "      <td>787</td>\n",
       "      <td>1127</td>\n",
       "      <td>1609</td>\n",
       "      <td>2079</td>\n",
       "      <td>2776</td>\n",
       "      <td>11974</td>\n",
       "    </tr>\n",
       "    <tr>\n",
       "      <td>7664</td>\n",
       "      <td>7</td>\n",
       "      <td>1001</td>\n",
       "      <td>687</td>\n",
       "      <td>4756</td>\n",
       "      <td>3200</td>\n",
       "      <td>666</td>\n",
       "      <td>498</td>\n",
       "      <td>936</td>\n",
       "      <td>1364</td>\n",
       "      <td>2166</td>\n",
       "      <td>2648</td>\n",
       "      <td>7340</td>\n",
       "      <td>32767</td>\n",
       "    </tr>\n",
       "    <tr>\n",
       "      <td>1821</td>\n",
       "      <td>7</td>\n",
       "      <td>1417</td>\n",
       "      <td>1865</td>\n",
       "      <td>3434</td>\n",
       "      <td>3118</td>\n",
       "      <td>682</td>\n",
       "      <td>626</td>\n",
       "      <td>939</td>\n",
       "      <td>1217</td>\n",
       "      <td>1744</td>\n",
       "      <td>2320</td>\n",
       "      <td>4311</td>\n",
       "      <td>19504</td>\n",
       "    </tr>\n",
       "    <tr>\n",
       "      <td>179827</td>\n",
       "      <td>7</td>\n",
       "      <td>1533</td>\n",
       "      <td>2018</td>\n",
       "      <td>5070</td>\n",
       "      <td>4058</td>\n",
       "      <td>722</td>\n",
       "      <td>966</td>\n",
       "      <td>827</td>\n",
       "      <td>1330</td>\n",
       "      <td>2310</td>\n",
       "      <td>3147</td>\n",
       "      <td>986</td>\n",
       "      <td>3684</td>\n",
       "    </tr>\n",
       "    <tr>\n",
       "      <td>1162</td>\n",
       "      <td>7</td>\n",
       "      <td>1197</td>\n",
       "      <td>1641</td>\n",
       "      <td>4996</td>\n",
       "      <td>3115</td>\n",
       "      <td>730</td>\n",
       "      <td>681</td>\n",
       "      <td>977</td>\n",
       "      <td>1551</td>\n",
       "      <td>2323</td>\n",
       "      <td>2955</td>\n",
       "      <td>4056</td>\n",
       "      <td>18263</td>\n",
       "    </tr>\n",
       "  </tbody>\n",
       "</table>\n",
       "<p>700 rows × 13 columns</p>\n",
       "</div>"
      ],
      "text/plain": [
       "              class  ndvi     ci  psri  gndvi  s2_rep  ireci  s2_b  s2_g  \\\n",
       "class                                                                      \n",
       "1     135942      1  7198  20218    11   6327     722   4252   334   464   \n",
       "      81120       1  7222  24635   116   6564     722   5039   331   454   \n",
       "      102911      1  7415  24894   245   6617     725   5534   305   480   \n",
       "      211536      1  7303  23395   138   6574     722   4791   315   451   \n",
       "      225803      1  6710  16224   596   6355     726   2896   269   394   \n",
       "...             ...   ...    ...   ...    ...     ...    ...   ...   ...   \n",
       "7     16116       7  1274   1570  4095   2969     701    507   787  1127   \n",
       "      7664        7  1001    687  4756   3200     666    498   936  1364   \n",
       "      1821        7  1417   1865  3434   3118     682    626   939  1217   \n",
       "      179827      7  1533   2018  5070   4058     722    966   827  1330   \n",
       "      1162        7  1197   1641  4996   3115     730    681   977  1551   \n",
       "\n",
       "              s2_r  s2_nir     hv     vv  \n",
       "class                                     \n",
       "1     135942   336    2063   3678  24352  \n",
       "      81120    353    2189  18058  32767  \n",
       "      102911   350    2358   8130  32767  \n",
       "      211536   340    2182   4758  26984  \n",
       "      225803   348    1768   8536  32767  \n",
       "...            ...     ...    ...    ...  \n",
       "7     16116   1609    2079   2776  11974  \n",
       "      7664    2166    2648   7340  32767  \n",
       "      1821    1744    2320   4311  19504  \n",
       "      179827  2310    3147    986   3684  \n",
       "      1162    2323    2955   4056  18263  \n",
       "\n",
       "[700 rows x 13 columns]"
      ]
     },
     "execution_count": 80,
     "metadata": {},
     "output_type": "execute_result"
    }
   ],
   "source": [
    "sampled_data"
   ]
  },
  {
   "cell_type": "code",
   "execution_count": 56,
   "metadata": {},
   "outputs": [
    {
     "ename": "ValueError",
     "evalue": "'class' is both an index level and a column label, which is ambiguous.",
     "output_type": "error",
     "traceback": [
      "\u001b[0;31m---------------------------------------------------------------------------\u001b[0m",
      "\u001b[0;31mValueError\u001b[0m                                Traceback (most recent call last)",
      "\u001b[0;32m<ipython-input-56-f9681a0e0c5d>\u001b[0m in \u001b[0;36m<module>\u001b[0;34m\u001b[0m\n\u001b[1;32m      1\u001b[0m \u001b[0mget_ipython\u001b[0m\u001b[0;34m(\u001b[0m\u001b[0;34m)\u001b[0m\u001b[0;34m.\u001b[0m\u001b[0mrun_line_magic\u001b[0m\u001b[0;34m(\u001b[0m\u001b[0;34m'matplotlib'\u001b[0m\u001b[0;34m,\u001b[0m \u001b[0;34m'inline'\u001b[0m\u001b[0;34m)\u001b[0m\u001b[0;34m\u001b[0m\u001b[0;34m\u001b[0m\u001b[0m\n\u001b[0;32m----> 2\u001b[0;31m \u001b[0msampled_data\u001b[0m\u001b[0;34m.\u001b[0m\u001b[0mgroupby\u001b[0m\u001b[0;34m(\u001b[0m\u001b[0mby\u001b[0m\u001b[0;34m=\u001b[0m\u001b[0;34m\"class\"\u001b[0m\u001b[0;34m)\u001b[0m\u001b[0;34m.\u001b[0m\u001b[0mmean\u001b[0m\u001b[0;34m(\u001b[0m\u001b[0;34m)\u001b[0m\u001b[0;34m.\u001b[0m\u001b[0mtranspose\u001b[0m\u001b[0;34m(\u001b[0m\u001b[0;34m)\u001b[0m\u001b[0;34m.\u001b[0m\u001b[0mplot\u001b[0m\u001b[0;34m(\u001b[0m\u001b[0;34m)\u001b[0m\u001b[0;34m\u001b[0m\u001b[0;34m\u001b[0m\u001b[0m\n\u001b[0m",
      "\u001b[0;32m~/miniconda3/envs/eoenv/lib/python3.6/site-packages/pandas/core/generic.py\u001b[0m in \u001b[0;36mgroupby\u001b[0;34m(self, by, axis, level, as_index, sort, group_keys, squeeze, observed, **kwargs)\u001b[0m\n\u001b[1;32m   7892\u001b[0m             \u001b[0msqueeze\u001b[0m\u001b[0;34m=\u001b[0m\u001b[0msqueeze\u001b[0m\u001b[0;34m,\u001b[0m\u001b[0;34m\u001b[0m\u001b[0;34m\u001b[0m\u001b[0m\n\u001b[1;32m   7893\u001b[0m             \u001b[0mobserved\u001b[0m\u001b[0;34m=\u001b[0m\u001b[0mobserved\u001b[0m\u001b[0;34m,\u001b[0m\u001b[0;34m\u001b[0m\u001b[0;34m\u001b[0m\u001b[0m\n\u001b[0;32m-> 7894\u001b[0;31m             \u001b[0;34m**\u001b[0m\u001b[0mkwargs\u001b[0m\u001b[0;34m\u001b[0m\u001b[0;34m\u001b[0m\u001b[0m\n\u001b[0m\u001b[1;32m   7895\u001b[0m         )\n\u001b[1;32m   7896\u001b[0m \u001b[0;34m\u001b[0m\u001b[0m\n",
      "\u001b[0;32m~/miniconda3/envs/eoenv/lib/python3.6/site-packages/pandas/core/groupby/groupby.py\u001b[0m in \u001b[0;36mgroupby\u001b[0;34m(obj, by, **kwds)\u001b[0m\n\u001b[1;32m   2520\u001b[0m         \u001b[0;32mraise\u001b[0m \u001b[0mTypeError\u001b[0m\u001b[0;34m(\u001b[0m\u001b[0;34m\"invalid type: {}\"\u001b[0m\u001b[0;34m.\u001b[0m\u001b[0mformat\u001b[0m\u001b[0;34m(\u001b[0m\u001b[0mobj\u001b[0m\u001b[0;34m)\u001b[0m\u001b[0;34m)\u001b[0m\u001b[0;34m\u001b[0m\u001b[0;34m\u001b[0m\u001b[0m\n\u001b[1;32m   2521\u001b[0m \u001b[0;34m\u001b[0m\u001b[0m\n\u001b[0;32m-> 2522\u001b[0;31m     \u001b[0;32mreturn\u001b[0m \u001b[0mklass\u001b[0m\u001b[0;34m(\u001b[0m\u001b[0mobj\u001b[0m\u001b[0;34m,\u001b[0m \u001b[0mby\u001b[0m\u001b[0;34m,\u001b[0m \u001b[0;34m**\u001b[0m\u001b[0mkwds\u001b[0m\u001b[0;34m)\u001b[0m\u001b[0;34m\u001b[0m\u001b[0;34m\u001b[0m\u001b[0m\n\u001b[0m",
      "\u001b[0;32m~/miniconda3/envs/eoenv/lib/python3.6/site-packages/pandas/core/groupby/groupby.py\u001b[0m in \u001b[0;36m__init__\u001b[0;34m(self, obj, keys, axis, level, grouper, exclusions, selection, as_index, sort, group_keys, squeeze, observed, **kwargs)\u001b[0m\n\u001b[1;32m    389\u001b[0m                 \u001b[0msort\u001b[0m\u001b[0;34m=\u001b[0m\u001b[0msort\u001b[0m\u001b[0;34m,\u001b[0m\u001b[0;34m\u001b[0m\u001b[0;34m\u001b[0m\u001b[0m\n\u001b[1;32m    390\u001b[0m                 \u001b[0mobserved\u001b[0m\u001b[0;34m=\u001b[0m\u001b[0mobserved\u001b[0m\u001b[0;34m,\u001b[0m\u001b[0;34m\u001b[0m\u001b[0;34m\u001b[0m\u001b[0m\n\u001b[0;32m--> 391\u001b[0;31m                 \u001b[0mmutated\u001b[0m\u001b[0;34m=\u001b[0m\u001b[0mself\u001b[0m\u001b[0;34m.\u001b[0m\u001b[0mmutated\u001b[0m\u001b[0;34m,\u001b[0m\u001b[0;34m\u001b[0m\u001b[0;34m\u001b[0m\u001b[0m\n\u001b[0m\u001b[1;32m    392\u001b[0m             )\n\u001b[1;32m    393\u001b[0m \u001b[0;34m\u001b[0m\u001b[0m\n",
      "\u001b[0;32m~/miniconda3/envs/eoenv/lib/python3.6/site-packages/pandas/core/groupby/grouper.py\u001b[0m in \u001b[0;36m_get_grouper\u001b[0;34m(obj, key, axis, level, sort, observed, mutated, validate)\u001b[0m\n\u001b[1;32m    613\u001b[0m             \u001b[0;32mif\u001b[0m \u001b[0mgpr\u001b[0m \u001b[0;32min\u001b[0m \u001b[0mobj\u001b[0m\u001b[0;34m:\u001b[0m\u001b[0;34m\u001b[0m\u001b[0;34m\u001b[0m\u001b[0m\n\u001b[1;32m    614\u001b[0m                 \u001b[0;32mif\u001b[0m \u001b[0mvalidate\u001b[0m\u001b[0;34m:\u001b[0m\u001b[0;34m\u001b[0m\u001b[0;34m\u001b[0m\u001b[0m\n\u001b[0;32m--> 615\u001b[0;31m                     \u001b[0mobj\u001b[0m\u001b[0;34m.\u001b[0m\u001b[0m_check_label_or_level_ambiguity\u001b[0m\u001b[0;34m(\u001b[0m\u001b[0mgpr\u001b[0m\u001b[0;34m)\u001b[0m\u001b[0;34m\u001b[0m\u001b[0;34m\u001b[0m\u001b[0m\n\u001b[0m\u001b[1;32m    616\u001b[0m                 \u001b[0min_axis\u001b[0m\u001b[0;34m,\u001b[0m \u001b[0mname\u001b[0m\u001b[0;34m,\u001b[0m \u001b[0mgpr\u001b[0m \u001b[0;34m=\u001b[0m \u001b[0;32mTrue\u001b[0m\u001b[0;34m,\u001b[0m \u001b[0mgpr\u001b[0m\u001b[0;34m,\u001b[0m \u001b[0mobj\u001b[0m\u001b[0;34m[\u001b[0m\u001b[0mgpr\u001b[0m\u001b[0;34m]\u001b[0m\u001b[0;34m\u001b[0m\u001b[0;34m\u001b[0m\u001b[0m\n\u001b[1;32m    617\u001b[0m                 \u001b[0mexclusions\u001b[0m\u001b[0;34m.\u001b[0m\u001b[0mappend\u001b[0m\u001b[0;34m(\u001b[0m\u001b[0mname\u001b[0m\u001b[0;34m)\u001b[0m\u001b[0;34m\u001b[0m\u001b[0;34m\u001b[0m\u001b[0m\n",
      "\u001b[0;32m~/miniconda3/envs/eoenv/lib/python3.6/site-packages/pandas/core/generic.py\u001b[0m in \u001b[0;36m_check_label_or_level_ambiguity\u001b[0;34m(self, key, axis)\u001b[0m\n\u001b[1;32m   1727\u001b[0m                 \u001b[0mlabel_type\u001b[0m\u001b[0;34m=\u001b[0m\u001b[0mlabel_type\u001b[0m\u001b[0;34m,\u001b[0m\u001b[0;34m\u001b[0m\u001b[0;34m\u001b[0m\u001b[0m\n\u001b[1;32m   1728\u001b[0m             )\n\u001b[0;32m-> 1729\u001b[0;31m             \u001b[0;32mraise\u001b[0m \u001b[0mValueError\u001b[0m\u001b[0;34m(\u001b[0m\u001b[0mmsg\u001b[0m\u001b[0;34m)\u001b[0m\u001b[0;34m\u001b[0m\u001b[0;34m\u001b[0m\u001b[0m\n\u001b[0m\u001b[1;32m   1730\u001b[0m \u001b[0;34m\u001b[0m\u001b[0m\n\u001b[1;32m   1731\u001b[0m     \u001b[0;32mdef\u001b[0m \u001b[0m_get_label_or_level_values\u001b[0m\u001b[0;34m(\u001b[0m\u001b[0mself\u001b[0m\u001b[0;34m,\u001b[0m \u001b[0mkey\u001b[0m\u001b[0;34m,\u001b[0m \u001b[0maxis\u001b[0m\u001b[0;34m=\u001b[0m\u001b[0;36m0\u001b[0m\u001b[0;34m)\u001b[0m\u001b[0;34m:\u001b[0m\u001b[0;34m\u001b[0m\u001b[0;34m\u001b[0m\u001b[0m\n",
      "\u001b[0;31mValueError\u001b[0m: 'class' is both an index level and a column label, which is ambiguous."
     ]
    }
   ],
   "source": [
    "%matplotlib inline\n",
    "sampled_data.groupby(by=\"class\").mean().transpose().plot()"
   ]
  },
  {
   "cell_type": "code",
   "execution_count": 27,
   "metadata": {},
   "outputs": [
    {
     "data": {
      "image/png": "[encoded data removed]",
      "text/plain": [
       "<Figure size 432x288 with 1 Axes>"
      ]
     },
     "metadata": {
      "needs_background": "light"
     },
     "output_type": "display_data"
    },
    {
     "data": {
      "image/png": "[encoded data removed]",
      "text/plain": [
       "<Figure size 432x288 with 1 Axes>"
      ]
     },
     "metadata": {
      "needs_background": "light"
     },
     "output_type": "display_data"
    },
    {
     "data": {
      "image/png": "[encoded data removed]",
      "text/plain": [
       "<Figure size 432x288 with 1 Axes>"
      ]
     },
     "metadata": {
      "needs_background": "light"
     },
     "output_type": "display_data"
    },
    {
     "data": {
      "image/png": "[encoded data removed]",
      "text/plain": [
       "<Figure size 432x288 with 1 Axes>"
      ]
     },
     "metadata": {
      "needs_background": "light"
     },
     "output_type": "display_data"
    },
    {
     "data": {
      "image/png": "[encoded data removed]",
      "text/plain": [
       "<Figure size 432x288 with 1 Axes>"
      ]
     },
     "metadata": {
      "needs_background": "light"
     },
     "output_type": "display_data"
    },
    {
     "data": {
      "image/png": "[encoded data removed]",
      "text/plain": [
       "<Figure size 432x288 with 1 Axes>"
      ]
     },
     "metadata": {
      "needs_background": "light"
     },
     "output_type": "display_data"
    },
    {
     "data": {
      "image/png": "[encoded data removed]",
      "text/plain": [
       "<Figure size 432x288 with 1 Axes>"
      ]
     },
     "metadata": {
      "needs_background": "light"
     },
     "output_type": "display_data"
    },
    {
     "data": {
      "image/png": "[encoded data removed]",
      "text/plain": [
       "<Figure size 432x288 with 1 Axes>"
      ]
     },
     "metadata": {
      "needs_background": "light"
     },
     "output_type": "display_data"
    },
    {
     "data": {
      "image/png": "[encoded data removed]",
      "text/plain": [
       "<Figure size 432x288 with 1 Axes>"
      ]
     },
     "metadata": {
      "needs_background": "light"
     },
     "output_type": "display_data"
    },
    {
     "data": {
      "image/png": "[encoded data removed]",
      "text/plain": [
       "<Figure size 432x288 with 1 Axes>"
      ]
     },
     "metadata": {
      "needs_background": "light"
     },
     "output_type": "display_data"
    },
    {
     "data": {
      "image/png": "[encoded data removed]",
      "text/plain": [
       "<Figure size 432x288 with 1 Axes>"
      ]
     },
     "metadata": {
      "needs_background": "light"
     },
     "output_type": "display_data"
    },
    {
     "data": {
      "image/png": "[encoded data removed]",
      "text/plain": [
       "<Figure size 432x288 with 1 Axes>"
      ]
     },
     "metadata": {
      "needs_background": "light"
     },
     "output_type": "display_data"
    }
   ],
   "source": [
    "for i in range(0,12):\n",
    "    training_data.plot.scatter(x='class', y=band_labels[i])"
   ]
  },
  {
   "cell_type": "code",
   "execution_count": 58,
   "metadata": {},
   "outputs": [],
   "source": [
    "labels = sampled_data['class']\n",
    "features = sampled_data.loc[:,'ndvi':]"
   ]
  },
  {
   "cell_type": "code",
   "execution_count": 60,
   "metadata": {},
   "outputs": [
    {
     "name": "stdout",
     "output_type": "stream",
     "text": [
      "0.12\n"
     ]
    }
   ],
   "source": [
    "f_train, f_test, l_train, l_test = train_test_split(features, labels)\n",
    "model = SVC(kernel='rbf')\n",
    "model.fit(f_train, l_train)\n",
    "print(model.score(f_test, l_test))"
   ]
  },
  {
   "cell_type": "code",
   "execution_count": 84,
   "metadata": {},
   "outputs": [],
   "source": [
    "?train_test_split"
   ]
  },
  {
   "cell_type": "code",
   "execution_count": 62,
   "metadata": {},
   "outputs": [
    {
     "data": {
      "text/plain": [
       "GridSearchCV(cv=StratifiedShuffleSplit(n_splits=5, random_state=42, test_size=0.2,\n",
       "            train_size=None),\n",
       "       error_score='raise',\n",
       "       estimator=SVC(C=1.0, cache_size=200, class_weight=None, coef0=0.0,\n",
       "  decision_function_shape='ovr', degree=3, gamma='auto', kernel='rbf',\n",
       "  max_iter=-1, probability=False, random_state=None, shrinking=True,\n",
       "  tol=0.001, verbose=False),\n",
       "       fit_params=None, iid=True, n_jobs=6,\n",
       "       param_grid={'gamma': array([1.e+000, 1.e+128]), 'C': array([ 1., 10.])},\n",
       "       pre_dispatch='2*n_jobs', refit=True, return_train_score='warn',\n",
       "       scoring=None, verbose=0)"
      ]
     },
     "execution_count": 62,
     "metadata": {},
     "output_type": "execute_result"
    }
   ],
   "source": [
    "from sklearn.model_selection import StratifiedShuffleSplit, GridSearchCV\n",
    "C_range = np.logspace(0, 1, 2, base=10)  # base = 2 for a fine tuning\n",
    "gamma_range = np.logspace(0, 128, 2, base=10)\n",
    "param_grid = dict(gamma=gamma_range, C=C_range)\n",
    "cv = StratifiedShuffleSplit(n_splits=5, test_size=0.2, random_state=42)\n",
    "grid = GridSearchCV(SVC(), param_grid=param_grid, cv=cv, n_jobs=6)\n",
    "grid.fit(f_train, l_train)"
   ]
  },
  {
   "cell_type": "code",
   "execution_count": 81,
   "metadata": {},
   "outputs": [
    {
     "data": {
      "text/plain": [
       "0.12"
      ]
     },
     "execution_count": 81,
     "metadata": {},
     "output_type": "execute_result"
    }
   ],
   "source": [
    "grid.score(f_test, l_test)"
   ]
  },
  {
   "cell_type": "code",
   "execution_count": 78,
   "metadata": {},
   "outputs": [
    {
     "name": "stdout",
     "output_type": "stream",
     "text": [
      "Warning: xgboost.XGBClassifier is not available and will not be used by TPOT.\n"
     ]
    },
    {
     "data": {
      "application/vnd.jupyter.widget-view+json": {
       "model_id": "",
       "version_major": 2,
       "version_minor": 0
      },
      "text/plain": [
       "HBox(children=(IntProgress(value=0, description='Optimization Progress', max=440, style=ProgressStyle(descript…"
      ]
     },
     "metadata": {},
     "output_type": "display_data"
    },
    {
     "name": "stdout",
     "output_type": "stream",
     "text": [
      "Generation 1 - Current best internal CV score: 0.670441792720288\n",
      "Generation 2 - Current best internal CV score: 0.670441792720288\n",
      "Generation 3 - Current best internal CV score: 0.670441792720288\n",
      "Generation 4 - Current best internal CV score: 0.6817838996190614\n",
      "Generation 5 - Current best internal CV score: 0.6817838996190614\n",
      "Generation 6 - Current best internal CV score: 0.685000618591691\n",
      "Generation 7 - Current best internal CV score: 0.685000618591691\n",
      "Generation 8 - Current best internal CV score: 0.6861660996623357\n",
      "Generation 9 - Current best internal CV score: 0.6861660996623357\n",
      "Generation 10 - Current best internal CV score: 0.6910391809871432\n",
      "\n",
      "Best pipeline: RandomForestClassifier(LogisticRegression(RobustScaler(ZeroCount(input_matrix)), C=15.0, dual=True, penalty=l2), bootstrap=True, criterion=gini, max_features=0.9500000000000001, min_samples_leaf=7, min_samples_split=3, n_estimators=100)\n"
     ]
    },
    {
     "data": {
      "text/plain": [
       "0.6514285714285715"
      ]
     },
     "execution_count": 78,
     "metadata": {},
     "output_type": "execute_result"
    }
   ],
   "source": [
    "searcher = TPOTClassifier(generations=10, population_size=40, cv=5,n_jobs = -1, verbosity=2)\n",
    "searcher.fit(f_train, l_train)\n",
    "searcher.score(f_test, l_test)"
   ]
  },
  {
   "cell_type": "code",
   "execution_count": 83,
   "metadata": {},
   "outputs": [],
   "source": [
    "searcher.export(\"random_forest_pipeline.py\")"
   ]
  },
  {
   "cell_type": "code",
   "execution_count": 82,
   "metadata": {},
   "outputs": [
    {
     "data": {
      "text/plain": [
       "0.6342857142857142"
      ]
     },
     "execution_count": 82,
     "metadata": {},
     "output_type": "execute_result"
    }
   ],
   "source": [
    "from sklearn.ensemble import ExtraTreesClassifier, RandomForestClassifier\n",
    "searcher.export('tpot_v2_nomalised.pkl')\n",
    "model = RandomForestClassifier(LogisticRegression(RobustScaler(ZeroCount(input_matrix)), C=15.0, dual=True, penalty=l2), bootstrap=True, criterion=gini, max_features=0.9500000000000001, min_samples_leaf=7, min_samples_split=3, n_estimators=100)\n",
    "model.score(f_test, l_test)"
   ]
  },
  {
   "cell_type": "code",
   "execution_count": 47,
   "metadata": {},
   "outputs": [
    {
     "data": {
      "text/html": [
       "<div>\n",
       "<style scoped>\n",
       "    .dataframe tbody tr th:only-of-type {\n",
       "        vertical-align: middle;\n",
       "    }\n",
       "\n",
       "    .dataframe tbody tr th {\n",
       "        vertical-align: top;\n",
       "    }\n",
       "\n",
       "    .dataframe thead th {\n",
       "        text-align: right;\n",
       "    }\n",
       "</style>\n",
       "<table border=\"1\" class=\"dataframe\">\n",
       "  <thead>\n",
       "    <tr style=\"text-align: right;\">\n",
       "      <th></th>\n",
       "      <th>band_1</th>\n",
       "      <th>band_2</th>\n",
       "      <th>band_3</th>\n",
       "      <th>band_4</th>\n",
       "      <th>band_5</th>\n",
       "      <th>band_6</th>\n",
       "      <th>band_7</th>\n",
       "      <th>band_8</th>\n",
       "      <th>band_9</th>\n",
       "      <th>band_10</th>\n",
       "      <th>band_11</th>\n",
       "      <th>band_12</th>\n",
       "    </tr>\n",
       "  </thead>\n",
       "  <tbody>\n",
       "    <tr>\n",
       "      <td>0</td>\n",
       "      <td>7573</td>\n",
       "      <td>24811</td>\n",
       "      <td>47.0</td>\n",
       "      <td>6821</td>\n",
       "      <td>724</td>\n",
       "      <td>6674</td>\n",
       "      <td>382</td>\n",
       "      <td>522</td>\n",
       "      <td>381</td>\n",
       "      <td>2767</td>\n",
       "      <td>8229</td>\n",
       "      <td>30929</td>\n",
       "    </tr>\n",
       "    <tr>\n",
       "      <td>1</td>\n",
       "      <td>7977</td>\n",
       "      <td>31234</td>\n",
       "      <td>48.0</td>\n",
       "      <td>7248</td>\n",
       "      <td>726</td>\n",
       "      <td>9051</td>\n",
       "      <td>374</td>\n",
       "      <td>516</td>\n",
       "      <td>363</td>\n",
       "      <td>3235</td>\n",
       "      <td>4049</td>\n",
       "      <td>23925</td>\n",
       "    </tr>\n",
       "    <tr>\n",
       "      <td>2</td>\n",
       "      <td>7172</td>\n",
       "      <td>22947</td>\n",
       "      <td>145.0</td>\n",
       "      <td>6467</td>\n",
       "      <td>723</td>\n",
       "      <td>5725</td>\n",
       "      <td>401</td>\n",
       "      <td>553</td>\n",
       "      <td>425</td>\n",
       "      <td>2595</td>\n",
       "      <td>7395</td>\n",
       "      <td>28018</td>\n",
       "    </tr>\n",
       "    <tr>\n",
       "      <td>3</td>\n",
       "      <td>7807</td>\n",
       "      <td>26235</td>\n",
       "      <td>107.0</td>\n",
       "      <td>6919</td>\n",
       "      <td>724</td>\n",
       "      <td>9087</td>\n",
       "      <td>428</td>\n",
       "      <td>627</td>\n",
       "      <td>423</td>\n",
       "      <td>3455</td>\n",
       "      <td>8403</td>\n",
       "      <td>23644</td>\n",
       "    </tr>\n",
       "    <tr>\n",
       "      <td>4</td>\n",
       "      <td>7722</td>\n",
       "      <td>26577</td>\n",
       "      <td>48.0</td>\n",
       "      <td>6921</td>\n",
       "      <td>724</td>\n",
       "      <td>8942</td>\n",
       "      <td>444</td>\n",
       "      <td>627</td>\n",
       "      <td>442</td>\n",
       "      <td>3447</td>\n",
       "      <td>9040</td>\n",
       "      <td>31507</td>\n",
       "    </tr>\n",
       "    <tr>\n",
       "      <td>...</td>\n",
       "      <td>...</td>\n",
       "      <td>...</td>\n",
       "      <td>...</td>\n",
       "      <td>...</td>\n",
       "      <td>...</td>\n",
       "      <td>...</td>\n",
       "      <td>...</td>\n",
       "      <td>...</td>\n",
       "      <td>...</td>\n",
       "      <td>...</td>\n",
       "      <td>...</td>\n",
       "      <td>...</td>\n",
       "    </tr>\n",
       "    <tr>\n",
       "      <td>14282</td>\n",
       "      <td>7301</td>\n",
       "      <td>25182</td>\n",
       "      <td>61.0</td>\n",
       "      <td>6574</td>\n",
       "      <td>723</td>\n",
       "      <td>5050</td>\n",
       "      <td>337</td>\n",
       "      <td>445</td>\n",
       "      <td>336</td>\n",
       "      <td>2160</td>\n",
       "      <td>8320</td>\n",
       "      <td>24300</td>\n",
       "    </tr>\n",
       "    <tr>\n",
       "      <td>14283</td>\n",
       "      <td>7301</td>\n",
       "      <td>25182</td>\n",
       "      <td>61.0</td>\n",
       "      <td>6574</td>\n",
       "      <td>723</td>\n",
       "      <td>5050</td>\n",
       "      <td>337</td>\n",
       "      <td>445</td>\n",
       "      <td>336</td>\n",
       "      <td>2160</td>\n",
       "      <td>8320</td>\n",
       "      <td>24300</td>\n",
       "    </tr>\n",
       "    <tr>\n",
       "      <td>14284</td>\n",
       "      <td>7330</td>\n",
       "      <td>23172</td>\n",
       "      <td>101.0</td>\n",
       "      <td>6497</td>\n",
       "      <td>724</td>\n",
       "      <td>5368</td>\n",
       "      <td>370</td>\n",
       "      <td>509</td>\n",
       "      <td>369</td>\n",
       "      <td>2398</td>\n",
       "      <td>5510</td>\n",
       "      <td>28402</td>\n",
       "    </tr>\n",
       "    <tr>\n",
       "      <td>14285</td>\n",
       "      <td>6551</td>\n",
       "      <td>16785</td>\n",
       "      <td>302.0</td>\n",
       "      <td>6059</td>\n",
       "      <td>723</td>\n",
       "      <td>3944</td>\n",
       "      <td>420</td>\n",
       "      <td>560</td>\n",
       "      <td>476</td>\n",
       "      <td>2284</td>\n",
       "      <td>6139</td>\n",
       "      <td>21726</td>\n",
       "    </tr>\n",
       "    <tr>\n",
       "      <td>14286</td>\n",
       "      <td>7187</td>\n",
       "      <td>24145</td>\n",
       "      <td>73.0</td>\n",
       "      <td>6446</td>\n",
       "      <td>724</td>\n",
       "      <td>4501</td>\n",
       "      <td>350</td>\n",
       "      <td>444</td>\n",
       "      <td>335</td>\n",
       "      <td>2059</td>\n",
       "      <td>4398</td>\n",
       "      <td>14401</td>\n",
       "    </tr>\n",
       "  </tbody>\n",
       "</table>\n",
       "<p>13069 rows × 12 columns</p>\n",
       "</div>"
      ],
      "text/plain": [
       "       band_1  band_2  band_3  band_4  band_5  band_6  band_7  band_8  band_9  \\\n",
       "0        7573   24811    47.0    6821     724    6674     382     522     381   \n",
       "1        7977   31234    48.0    7248     726    9051     374     516     363   \n",
       "2        7172   22947   145.0    6467     723    5725     401     553     425   \n",
       "3        7807   26235   107.0    6919     724    9087     428     627     423   \n",
       "4        7722   26577    48.0    6921     724    8942     444     627     442   \n",
       "...       ...     ...     ...     ...     ...     ...     ...     ...     ...   \n",
       "14282    7301   25182    61.0    6574     723    5050     337     445     336   \n",
       "14283    7301   25182    61.0    6574     723    5050     337     445     336   \n",
       "14284    7330   23172   101.0    6497     724    5368     370     509     369   \n",
       "14285    6551   16785   302.0    6059     723    3944     420     560     476   \n",
       "14286    7187   24145    73.0    6446     724    4501     350     444     335   \n",
       "\n",
       "       band_10  band_11  band_12  \n",
       "0         2767     8229    30929  \n",
       "1         3235     4049    23925  \n",
       "2         2595     7395    28018  \n",
       "3         3455     8403    23644  \n",
       "4         3447     9040    31507  \n",
       "...        ...      ...      ...  \n",
       "14282     2160     8320    24300  \n",
       "14283     2160     8320    24300  \n",
       "14284     2398     5510    28402  \n",
       "14285     2284     6139    21726  \n",
       "14286     2059     4398    14401  \n",
       "\n",
       "[13069 rows x 12 columns]"
      ]
     },
     "execution_count": 47,
     "metadata": {},
     "output_type": "execute_result"
    }
   ],
   "source": [
    "from sklearn.naive_bayes import GaussianNB\n",
    "from sklearn.pipeline import make_pipeline, make_union\n",
    "from tpot.builtins import StackingEstimator\n",
    "from sklearn.preprocessing import FunctionTransformer\n",
    "from copy import copy\n",
    "import joblib\n",
    "from sklearn.model_selection import train_test_split\n",
    "from sklearn.ensemble import ExtraTreesClassifier\n",
    "\n",
    "# Average CV score on the training set was:0.8129780700079303\n",
    "exported_pipeline = make_pipeline(\n",
    "    make_union(\n",
    "        StackingEstimator(estimator=GaussianNB()),\n",
    "        FunctionTransformer(copy)\n",
    "    ),\n",
    "    ExtraTreesClassifier(bootstrap=False, criterion=\"gini\", max_features=0.4, min_samples_leaf=3, min_samples_split=2, n_estimators=100)\n",
    ")\n",
    "\n",
    "training_data = training_data[training_data['class'] != 5]\n",
    "labels = training_data['class']\n",
    "features = training_data.loc[:,'band_1':].drop([\"segment_id\"], axis = 1)\n",
    "\n",
    "\n",
    "#model = exported_pipeline.fit(features, labels)\n",
    "#joblib.dump(model, \"extra_trees_no_builtup.pkl\")"
   ]
  },
  {
   "cell_type": "code",
   "execution_count": 70,
   "metadata": {},
   "outputs": [
    {
     "name": "stderr",
     "output_type": "stream",
     "text": [
      "2019-10-02 10:33:36,101: INFO: ****PROCESSING START****\n",
      "2019-10-02 10:33:36,151: INFO: Classifying file: data/s2_20180219_testsite_vegIndex_s1_clipped.tif\n",
      "2019-10-02 10:33:36,154: INFO: Saved model     : last_tested_model.pkl\n",
      "2019-10-02 10:33:36,157: WARNING: Sklearn joblib import failed,trying generic joblib\n",
      "2019-10-02 10:33:36,190: INFO: Created classification image file: outputs/extra_trees_test.tif\n",
      "2019-10-02 10:33:36,194: INFO: Reshaping image from GDAL to Scikit-Learn dimensions\n",
      "2019-10-02 10:33:36,194: INFO: Finding good pixels without missing values\n",
      "2019-10-02 10:33:36,197: INFO: image_array.shape = (1329696, 12)\n",
      "2019-10-02 10:33:36,652: INFO: No. good values: 1323130\n",
      "2019-10-02 10:33:36,652: INFO: Not worth filtering nodata, skipping.\n",
      "2019-10-02 10:33:36,653: INFO:    All  samples: 1329696\n",
      "2019-10-02 10:33:36,663: INFO:    Good samples: 1329696\n",
      "2019-10-02 10:33:36,669: INFO:    Number of chunks 10 Chunk size 132969 Chunk residual 6\n",
      "2019-10-02 10:33:36,671: INFO:    Classifying chunk 0 of size 132969\n",
      "2019-10-02 10:33:38,005: INFO:    Classifying chunk 1 of size 132969\n",
      "2019-10-02 10:33:39,351: INFO:    Classifying chunk 2 of size 132969\n",
      "2019-10-02 10:33:40,668: INFO:    Classifying chunk 3 of size 132969\n",
      "2019-10-02 10:33:42,002: INFO:    Classifying chunk 4 of size 132969\n",
      "2019-10-02 10:33:43,307: INFO:    Classifying chunk 5 of size 132969\n",
      "2019-10-02 10:33:44,587: INFO:    Classifying chunk 6 of size 132969\n",
      "2019-10-02 10:33:45,869: INFO:    Classifying chunk 7 of size 132969\n",
      "2019-10-02 10:33:47,175: INFO:    Classifying chunk 8 of size 132969\n",
      "2019-10-02 10:33:48,459: INFO:    Classifying chunk 9 of size 132975\n",
      "2019-10-02 10:33:49,774: INFO:    Creating class array of size 1329696\n",
      "2019-10-02 10:33:49,993: INFO:    Creating GDAL class image\n"
     ]
    },
    {
     "data": {
      "text/plain": [
       "'outputs/extra_trees_test.tif'"
      ]
     },
     "execution_count": 70,
     "metadata": {},
     "output_type": "execute_result"
    }
   ],
   "source": [
    "import joblib\n",
    "from pyeo.classification import classify_image\n",
    "from pyeo.filesystem_utilities import init_log\n",
    "init_log(\"model_exploration.log\")\n",
    "image_path = \"data/s2_20180219_testsite_vegIndex_s1_clipped.tif\"\n",
    "output_path = \"outputs/extra_trees_test.tif\"\n",
    "model_path = \"last_tested_model.pkl\"\n",
    "joblib.dump(model, model_path)\n",
    "classify_image(image_path, model_path, output_path, apply_mask=False)"
   ]
  }
 ],
 "metadata": {
  "kernelspec": {
   "display_name": "Python 3",
   "language": "python",
   "name": "python3"
  },
  "language_info": {
   "codemirror_mode": {
    "name": "ipython",
    "version": 3
   },
   "file_extension": ".py",
   "mimetype": "text/x-python",
   "name": "python",
   "nbconvert_exporter": "python",
   "pygments_lexer": "ipython3",
   "version": "3.6.7"
  }
 },
 "nbformat": 4,
 "nbformat_minor": 2
}
